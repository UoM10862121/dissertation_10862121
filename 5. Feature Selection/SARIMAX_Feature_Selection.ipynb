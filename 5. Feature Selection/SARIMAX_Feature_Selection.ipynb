{
  "nbformat": 4,
  "nbformat_minor": 0,
  "metadata": {
    "colab": {
      "provenance": []
    },
    "kernelspec": {
      "name": "python3",
      "display_name": "Python 3"
    },
    "language_info": {
      "name": "python"
    }
  },
  "cells": [
    {
      "cell_type": "code",
      "source": [
        "pip install scikit-learn"
      ],
      "metadata": {
        "colab": {
          "base_uri": "https://localhost:8080/"
        },
        "id": "_pFE0I3U6TkW",
        "outputId": "702b4051-b60f-48fa-80e7-fdea416ceae7"
      },
      "execution_count": null,
      "outputs": [
        {
          "output_type": "stream",
          "name": "stdout",
          "text": [
            "Requirement already satisfied: scikit-learn in /usr/local/lib/python3.10/dist-packages (1.2.2)\n",
            "Requirement already satisfied: numpy>=1.17.3 in /usr/local/lib/python3.10/dist-packages (from scikit-learn) (1.23.5)\n",
            "Requirement already satisfied: scipy>=1.3.2 in /usr/local/lib/python3.10/dist-packages (from scikit-learn) (1.10.1)\n",
            "Requirement already satisfied: joblib>=1.1.1 in /usr/local/lib/python3.10/dist-packages (from scikit-learn) (1.3.2)\n",
            "Requirement already satisfied: threadpoolctl>=2.0.0 in /usr/local/lib/python3.10/dist-packages (from scikit-learn) (3.2.0)\n"
          ]
        }
      ]
    },
    {
      "cell_type": "code",
      "execution_count": null,
      "metadata": {
        "id": "--KsF6CsrLkm"
      },
      "outputs": [],
      "source": [
        "import numpy as np\n",
        "import pandas as pd\n",
        "import seaborn as sns\n",
        "import matplotlib.pyplot as plt\n",
        "from sklearn.ensemble import RandomForestRegressor\n",
        "from sklearn.model_selection import train_test_split"
      ]
    },
    {
      "cell_type": "code",
      "source": [
        "from google.colab import drive\n",
        "drive.mount('/content/drive')"
      ],
      "metadata": {
        "colab": {
          "base_uri": "https://localhost:8080/"
        },
        "id": "zFrqGGnIulX8",
        "outputId": "d463820c-17cc-4487-8582-d8bb15fc4eb8"
      },
      "execution_count": null,
      "outputs": [
        {
          "output_type": "stream",
          "name": "stdout",
          "text": [
            "Drive already mounted at /content/drive; to attempt to forcibly remount, call drive.mount(\"/content/drive\", force_remount=True).\n"
          ]
        }
      ]
    },
    {
      "cell_type": "code",
      "source": [
        "merged_n = pd.read_csv(r'/content/drive/MyDrive/Dissertation_10862121/merged_n.csv')\n",
        "merged_d = pd.read_csv(r'/content/drive/MyDrive/Dissertation_10862121/merged_d.csv')"
      ],
      "metadata": {
        "id": "vtrk2KR4tyP7"
      },
      "execution_count": null,
      "outputs": []
    },
    {
      "cell_type": "code",
      "source": [
        "merged_n['GMT'] = pd.to_datetime(merged_n['GMT'])\n",
        "merged_n['Date'] = pd.to_datetime(merged_n['Date'])\n",
        "merged_n.set_index('GMT', inplace=True)"
      ],
      "metadata": {
        "id": "XtTf7L4rufCF"
      },
      "execution_count": null,
      "outputs": []
    },
    {
      "cell_type": "code",
      "source": [
        "merged_d['GMT'] = pd.to_datetime(merged_d['GMT'])\n",
        "merged_d['Date'] = pd.to_datetime(merged_d['Date'])\n",
        "merged_d.set_index('GMT', inplace=True)"
      ],
      "metadata": {
        "id": "joJdiWDEzHgm"
      },
      "execution_count": null,
      "outputs": []
    },
    {
      "cell_type": "code",
      "source": [
        "merged_n['Consumption Per Household'] = merged_n['Total Household Consumption (N)'] / 4173\n",
        "merged_d['Consumption Per Household'] = merged_d['Total Household Consumption (D)'] / 1025"
      ],
      "metadata": {
        "id": "0bO6tXAoy0_Q"
      },
      "execution_count": null,
      "outputs": []
    },
    {
      "cell_type": "code",
      "source": [
        "merged_n.describe()"
      ],
      "metadata": {
        "colab": {
          "base_uri": "https://localhost:8080/",
          "height": 390
        },
        "id": "Nama4hQeuQAH",
        "outputId": "271bf1ff-6840-45ec-b27a-31c2adcc610b"
      },
      "execution_count": null,
      "outputs": [
        {
          "output_type": "execute_result",
          "data": {
            "text/plain": [
              "       Total Household Consumption (N)    Year        Month          Day  \\\n",
              "count                      8760.000000  8760.0  8760.000000  8760.000000   \n",
              "mean                       1741.908178  2013.0     6.526027    15.720548   \n",
              "std                         624.741720     0.0     3.448048     8.796749   \n",
              "min                         799.946338  2013.0     1.000000     1.000000   \n",
              "25%                        1261.526631  2013.0     4.000000     8.000000   \n",
              "50%                        1670.779844  2013.0     7.000000    16.000000   \n",
              "75%                        2098.414616  2013.0    10.000000    23.000000   \n",
              "max                        3970.438521  2013.0    12.000000    31.000000   \n",
              "\n",
              "              Hour    DayOfWeek  Hourly Global Radiation (KJ/m2)  \\\n",
              "count  8760.000000  8760.000000                      8760.000000   \n",
              "mean     11.500000     2.994521                       419.198421   \n",
              "std       6.922582     2.000107                       696.209054   \n",
              "min       0.000000     0.000000                         0.000000   \n",
              "25%       5.750000     1.000000                         0.000000   \n",
              "50%      11.500000     3.000000                        16.333333   \n",
              "75%      17.250000     5.000000                       569.500000   \n",
              "max      23.000000     6.000000                      3290.333333   \n",
              "\n",
              "       Hourly Maximum Gust (kn)  Hourly Mean Wind Direction (o)  \\\n",
              "count               8760.000000                     8760.000000   \n",
              "mean                  13.623415                      188.438185   \n",
              "std                    6.584945                       88.042196   \n",
              "min                    2.000000                       16.000000   \n",
              "25%                    8.600000                      102.000000   \n",
              "50%                   12.800000                      212.000000   \n",
              "75%                   17.400000                      254.000000   \n",
              "max                   56.400000                      356.000000   \n",
              "\n",
              "       Hourly Mean Windspeed (kn)  Hourly Pressure at Mean Sea Level (hPa)  \\\n",
              "count                 8760.000000                              8760.000000   \n",
              "mean                     7.341098                              1015.188538   \n",
              "std                      3.640448                                10.289586   \n",
              "min                      0.800000                               976.500000   \n",
              "25%                      4.600000                              1009.075000   \n",
              "50%                      7.000000                              1015.750000   \n",
              "75%                      9.400000                              1022.425000   \n",
              "max                     27.200000                              1040.050000   \n",
              "\n",
              "       Hourly Rainfall Total (mm)  Hourly Relative Humidity (%)  \\\n",
              "count                 8760.000000                   8760.000000   \n",
              "mean                     0.080647                     76.964981   \n",
              "std                      0.343273                     15.090821   \n",
              "min                      0.000000                     21.971429   \n",
              "25%                      0.000000                     67.557143   \n",
              "50%                      0.000000                     80.169048   \n",
              "75%                      0.000000                     89.357143   \n",
              "max                      7.120000                     98.971429   \n",
              "\n",
              "       Hourly Snow Depth (cm)  Hourly Temperature (C)  \\\n",
              "count             8760.000000             8760.000000   \n",
              "mean                 0.052911               10.419904   \n",
              "std                  0.451105                6.540530   \n",
              "min                  0.000000               -4.428571   \n",
              "25%                  0.000000                5.400000   \n",
              "50%                  0.000000               10.114286   \n",
              "75%                  0.000000               15.189286   \n",
              "max                  6.500000               32.057143   \n",
              "\n",
              "       Hourly Total Cloud Cover (oktas)\\n  Hourly Visibility (dm)  \\\n",
              "count                         8760.000000             8760.000000   \n",
              "mean                             5.100266             2421.355594   \n",
              "std                              2.866701             1274.053187   \n",
              "min                              0.000000               30.000000   \n",
              "25%                              2.333333             1366.666667   \n",
              "50%                              6.333333             2433.333333   \n",
              "75%                              7.666667             3400.000000   \n",
              "max                              9.000000             6666.666667   \n",
              "\n",
              "       Consumption Per Household  \n",
              "count                8760.000000  \n",
              "mean                    0.417423  \n",
              "std                     0.149710  \n",
              "min                     0.191696  \n",
              "25%                     0.302307  \n",
              "50%                     0.400379  \n",
              "75%                     0.502855  \n",
              "max                     0.951459  "
            ],
            "text/html": [
              "\n",
              "  <div id=\"df-6bb9d17e-0bb5-40d8-9fa9-b9b067b1acbb\" class=\"colab-df-container\">\n",
              "    <div>\n",
              "<style scoped>\n",
              "    .dataframe tbody tr th:only-of-type {\n",
              "        vertical-align: middle;\n",
              "    }\n",
              "\n",
              "    .dataframe tbody tr th {\n",
              "        vertical-align: top;\n",
              "    }\n",
              "\n",
              "    .dataframe thead th {\n",
              "        text-align: right;\n",
              "    }\n",
              "</style>\n",
              "<table border=\"1\" class=\"dataframe\">\n",
              "  <thead>\n",
              "    <tr style=\"text-align: right;\">\n",
              "      <th></th>\n",
              "      <th>Total Household Consumption (N)</th>\n",
              "      <th>Year</th>\n",
              "      <th>Month</th>\n",
              "      <th>Day</th>\n",
              "      <th>Hour</th>\n",
              "      <th>DayOfWeek</th>\n",
              "      <th>Hourly Global Radiation (KJ/m2)</th>\n",
              "      <th>Hourly Maximum Gust (kn)</th>\n",
              "      <th>Hourly Mean Wind Direction (o)</th>\n",
              "      <th>Hourly Mean Windspeed (kn)</th>\n",
              "      <th>Hourly Pressure at Mean Sea Level (hPa)</th>\n",
              "      <th>Hourly Rainfall Total (mm)</th>\n",
              "      <th>Hourly Relative Humidity (%)</th>\n",
              "      <th>Hourly Snow Depth (cm)</th>\n",
              "      <th>Hourly Temperature (C)</th>\n",
              "      <th>Hourly Total Cloud Cover (oktas)\\n</th>\n",
              "      <th>Hourly Visibility (dm)</th>\n",
              "      <th>Consumption Per Household</th>\n",
              "    </tr>\n",
              "  </thead>\n",
              "  <tbody>\n",
              "    <tr>\n",
              "      <th>count</th>\n",
              "      <td>8760.000000</td>\n",
              "      <td>8760.0</td>\n",
              "      <td>8760.000000</td>\n",
              "      <td>8760.000000</td>\n",
              "      <td>8760.000000</td>\n",
              "      <td>8760.000000</td>\n",
              "      <td>8760.000000</td>\n",
              "      <td>8760.000000</td>\n",
              "      <td>8760.000000</td>\n",
              "      <td>8760.000000</td>\n",
              "      <td>8760.000000</td>\n",
              "      <td>8760.000000</td>\n",
              "      <td>8760.000000</td>\n",
              "      <td>8760.000000</td>\n",
              "      <td>8760.000000</td>\n",
              "      <td>8760.000000</td>\n",
              "      <td>8760.000000</td>\n",
              "      <td>8760.000000</td>\n",
              "    </tr>\n",
              "    <tr>\n",
              "      <th>mean</th>\n",
              "      <td>1741.908178</td>\n",
              "      <td>2013.0</td>\n",
              "      <td>6.526027</td>\n",
              "      <td>15.720548</td>\n",
              "      <td>11.500000</td>\n",
              "      <td>2.994521</td>\n",
              "      <td>419.198421</td>\n",
              "      <td>13.623415</td>\n",
              "      <td>188.438185</td>\n",
              "      <td>7.341098</td>\n",
              "      <td>1015.188538</td>\n",
              "      <td>0.080647</td>\n",
              "      <td>76.964981</td>\n",
              "      <td>0.052911</td>\n",
              "      <td>10.419904</td>\n",
              "      <td>5.100266</td>\n",
              "      <td>2421.355594</td>\n",
              "      <td>0.417423</td>\n",
              "    </tr>\n",
              "    <tr>\n",
              "      <th>std</th>\n",
              "      <td>624.741720</td>\n",
              "      <td>0.0</td>\n",
              "      <td>3.448048</td>\n",
              "      <td>8.796749</td>\n",
              "      <td>6.922582</td>\n",
              "      <td>2.000107</td>\n",
              "      <td>696.209054</td>\n",
              "      <td>6.584945</td>\n",
              "      <td>88.042196</td>\n",
              "      <td>3.640448</td>\n",
              "      <td>10.289586</td>\n",
              "      <td>0.343273</td>\n",
              "      <td>15.090821</td>\n",
              "      <td>0.451105</td>\n",
              "      <td>6.540530</td>\n",
              "      <td>2.866701</td>\n",
              "      <td>1274.053187</td>\n",
              "      <td>0.149710</td>\n",
              "    </tr>\n",
              "    <tr>\n",
              "      <th>min</th>\n",
              "      <td>799.946338</td>\n",
              "      <td>2013.0</td>\n",
              "      <td>1.000000</td>\n",
              "      <td>1.000000</td>\n",
              "      <td>0.000000</td>\n",
              "      <td>0.000000</td>\n",
              "      <td>0.000000</td>\n",
              "      <td>2.000000</td>\n",
              "      <td>16.000000</td>\n",
              "      <td>0.800000</td>\n",
              "      <td>976.500000</td>\n",
              "      <td>0.000000</td>\n",
              "      <td>21.971429</td>\n",
              "      <td>0.000000</td>\n",
              "      <td>-4.428571</td>\n",
              "      <td>0.000000</td>\n",
              "      <td>30.000000</td>\n",
              "      <td>0.191696</td>\n",
              "    </tr>\n",
              "    <tr>\n",
              "      <th>25%</th>\n",
              "      <td>1261.526631</td>\n",
              "      <td>2013.0</td>\n",
              "      <td>4.000000</td>\n",
              "      <td>8.000000</td>\n",
              "      <td>5.750000</td>\n",
              "      <td>1.000000</td>\n",
              "      <td>0.000000</td>\n",
              "      <td>8.600000</td>\n",
              "      <td>102.000000</td>\n",
              "      <td>4.600000</td>\n",
              "      <td>1009.075000</td>\n",
              "      <td>0.000000</td>\n",
              "      <td>67.557143</td>\n",
              "      <td>0.000000</td>\n",
              "      <td>5.400000</td>\n",
              "      <td>2.333333</td>\n",
              "      <td>1366.666667</td>\n",
              "      <td>0.302307</td>\n",
              "    </tr>\n",
              "    <tr>\n",
              "      <th>50%</th>\n",
              "      <td>1670.779844</td>\n",
              "      <td>2013.0</td>\n",
              "      <td>7.000000</td>\n",
              "      <td>16.000000</td>\n",
              "      <td>11.500000</td>\n",
              "      <td>3.000000</td>\n",
              "      <td>16.333333</td>\n",
              "      <td>12.800000</td>\n",
              "      <td>212.000000</td>\n",
              "      <td>7.000000</td>\n",
              "      <td>1015.750000</td>\n",
              "      <td>0.000000</td>\n",
              "      <td>80.169048</td>\n",
              "      <td>0.000000</td>\n",
              "      <td>10.114286</td>\n",
              "      <td>6.333333</td>\n",
              "      <td>2433.333333</td>\n",
              "      <td>0.400379</td>\n",
              "    </tr>\n",
              "    <tr>\n",
              "      <th>75%</th>\n",
              "      <td>2098.414616</td>\n",
              "      <td>2013.0</td>\n",
              "      <td>10.000000</td>\n",
              "      <td>23.000000</td>\n",
              "      <td>17.250000</td>\n",
              "      <td>5.000000</td>\n",
              "      <td>569.500000</td>\n",
              "      <td>17.400000</td>\n",
              "      <td>254.000000</td>\n",
              "      <td>9.400000</td>\n",
              "      <td>1022.425000</td>\n",
              "      <td>0.000000</td>\n",
              "      <td>89.357143</td>\n",
              "      <td>0.000000</td>\n",
              "      <td>15.189286</td>\n",
              "      <td>7.666667</td>\n",
              "      <td>3400.000000</td>\n",
              "      <td>0.502855</td>\n",
              "    </tr>\n",
              "    <tr>\n",
              "      <th>max</th>\n",
              "      <td>3970.438521</td>\n",
              "      <td>2013.0</td>\n",
              "      <td>12.000000</td>\n",
              "      <td>31.000000</td>\n",
              "      <td>23.000000</td>\n",
              "      <td>6.000000</td>\n",
              "      <td>3290.333333</td>\n",
              "      <td>56.400000</td>\n",
              "      <td>356.000000</td>\n",
              "      <td>27.200000</td>\n",
              "      <td>1040.050000</td>\n",
              "      <td>7.120000</td>\n",
              "      <td>98.971429</td>\n",
              "      <td>6.500000</td>\n",
              "      <td>32.057143</td>\n",
              "      <td>9.000000</td>\n",
              "      <td>6666.666667</td>\n",
              "      <td>0.951459</td>\n",
              "    </tr>\n",
              "  </tbody>\n",
              "</table>\n",
              "</div>\n",
              "    <div class=\"colab-df-buttons\">\n",
              "\n",
              "  <div class=\"colab-df-container\">\n",
              "    <button class=\"colab-df-convert\" onclick=\"convertToInteractive('df-6bb9d17e-0bb5-40d8-9fa9-b9b067b1acbb')\"\n",
              "            title=\"Convert this dataframe to an interactive table.\"\n",
              "            style=\"display:none;\">\n",
              "\n",
              "  <svg xmlns=\"http://www.w3.org/2000/svg\" height=\"24px\" viewBox=\"0 -960 960 960\">\n",
              "    <path d=\"M120-120v-720h720v720H120Zm60-500h600v-160H180v160Zm220 220h160v-160H400v160Zm0 220h160v-160H400v160ZM180-400h160v-160H180v160Zm440 0h160v-160H620v160ZM180-180h160v-160H180v160Zm440 0h160v-160H620v160Z\"/>\n",
              "  </svg>\n",
              "    </button>\n",
              "\n",
              "  <style>\n",
              "    .colab-df-container {\n",
              "      display:flex;\n",
              "      gap: 12px;\n",
              "    }\n",
              "\n",
              "    .colab-df-convert {\n",
              "      background-color: #E8F0FE;\n",
              "      border: none;\n",
              "      border-radius: 50%;\n",
              "      cursor: pointer;\n",
              "      display: none;\n",
              "      fill: #1967D2;\n",
              "      height: 32px;\n",
              "      padding: 0 0 0 0;\n",
              "      width: 32px;\n",
              "    }\n",
              "\n",
              "    .colab-df-convert:hover {\n",
              "      background-color: #E2EBFA;\n",
              "      box-shadow: 0px 1px 2px rgba(60, 64, 67, 0.3), 0px 1px 3px 1px rgba(60, 64, 67, 0.15);\n",
              "      fill: #174EA6;\n",
              "    }\n",
              "\n",
              "    .colab-df-buttons div {\n",
              "      margin-bottom: 4px;\n",
              "    }\n",
              "\n",
              "    [theme=dark] .colab-df-convert {\n",
              "      background-color: #3B4455;\n",
              "      fill: #D2E3FC;\n",
              "    }\n",
              "\n",
              "    [theme=dark] .colab-df-convert:hover {\n",
              "      background-color: #434B5C;\n",
              "      box-shadow: 0px 1px 3px 1px rgba(0, 0, 0, 0.15);\n",
              "      filter: drop-shadow(0px 1px 2px rgba(0, 0, 0, 0.3));\n",
              "      fill: #FFFFFF;\n",
              "    }\n",
              "  </style>\n",
              "\n",
              "    <script>\n",
              "      const buttonEl =\n",
              "        document.querySelector('#df-6bb9d17e-0bb5-40d8-9fa9-b9b067b1acbb button.colab-df-convert');\n",
              "      buttonEl.style.display =\n",
              "        google.colab.kernel.accessAllowed ? 'block' : 'none';\n",
              "\n",
              "      async function convertToInteractive(key) {\n",
              "        const element = document.querySelector('#df-6bb9d17e-0bb5-40d8-9fa9-b9b067b1acbb');\n",
              "        const dataTable =\n",
              "          await google.colab.kernel.invokeFunction('convertToInteractive',\n",
              "                                                    [key], {});\n",
              "        if (!dataTable) return;\n",
              "\n",
              "        const docLinkHtml = 'Like what you see? Visit the ' +\n",
              "          '<a target=\"_blank\" href=https://colab.research.google.com/notebooks/data_table.ipynb>data table notebook</a>'\n",
              "          + ' to learn more about interactive tables.';\n",
              "        element.innerHTML = '';\n",
              "        dataTable['output_type'] = 'display_data';\n",
              "        await google.colab.output.renderOutput(dataTable, element);\n",
              "        const docLink = document.createElement('div');\n",
              "        docLink.innerHTML = docLinkHtml;\n",
              "        element.appendChild(docLink);\n",
              "      }\n",
              "    </script>\n",
              "  </div>\n",
              "\n",
              "\n",
              "<div id=\"df-c3c9f179-631c-4e5e-9973-7fd173887647\">\n",
              "  <button class=\"colab-df-quickchart\" onclick=\"quickchart('df-c3c9f179-631c-4e5e-9973-7fd173887647')\"\n",
              "            title=\"Suggest charts.\"\n",
              "            style=\"display:none;\">\n",
              "\n",
              "<svg xmlns=\"http://www.w3.org/2000/svg\" height=\"24px\"viewBox=\"0 0 24 24\"\n",
              "     width=\"24px\">\n",
              "    <g>\n",
              "        <path d=\"M19 3H5c-1.1 0-2 .9-2 2v14c0 1.1.9 2 2 2h14c1.1 0 2-.9 2-2V5c0-1.1-.9-2-2-2zM9 17H7v-7h2v7zm4 0h-2V7h2v10zm4 0h-2v-4h2v4z\"/>\n",
              "    </g>\n",
              "</svg>\n",
              "  </button>\n",
              "\n",
              "<style>\n",
              "  .colab-df-quickchart {\n",
              "    background-color: #E8F0FE;\n",
              "    border: none;\n",
              "    border-radius: 50%;\n",
              "    cursor: pointer;\n",
              "    display: none;\n",
              "    fill: #1967D2;\n",
              "    height: 32px;\n",
              "    padding: 0 0 0 0;\n",
              "    width: 32px;\n",
              "  }\n",
              "\n",
              "  .colab-df-quickchart:hover {\n",
              "    background-color: #E2EBFA;\n",
              "    box-shadow: 0px 1px 2px rgba(60, 64, 67, 0.3), 0px 1px 3px 1px rgba(60, 64, 67, 0.15);\n",
              "    fill: #174EA6;\n",
              "  }\n",
              "\n",
              "  [theme=dark] .colab-df-quickchart {\n",
              "    background-color: #3B4455;\n",
              "    fill: #D2E3FC;\n",
              "  }\n",
              "\n",
              "  [theme=dark] .colab-df-quickchart:hover {\n",
              "    background-color: #434B5C;\n",
              "    box-shadow: 0px 1px 3px 1px rgba(0, 0, 0, 0.15);\n",
              "    filter: drop-shadow(0px 1px 2px rgba(0, 0, 0, 0.3));\n",
              "    fill: #FFFFFF;\n",
              "  }\n",
              "</style>\n",
              "\n",
              "  <script>\n",
              "    async function quickchart(key) {\n",
              "      const charts = await google.colab.kernel.invokeFunction(\n",
              "          'suggestCharts', [key], {});\n",
              "    }\n",
              "    (() => {\n",
              "      let quickchartButtonEl =\n",
              "        document.querySelector('#df-c3c9f179-631c-4e5e-9973-7fd173887647 button');\n",
              "      quickchartButtonEl.style.display =\n",
              "        google.colab.kernel.accessAllowed ? 'block' : 'none';\n",
              "    })();\n",
              "  </script>\n",
              "</div>\n",
              "    </div>\n",
              "  </div>\n"
            ]
          },
          "metadata": {},
          "execution_count": 30
        }
      ]
    },
    {
      "cell_type": "markdown",
      "source": [
        "Feature Importance"
      ],
      "metadata": {
        "id": "WciOGrftwJUd"
      }
    },
    {
      "cell_type": "code",
      "source": [
        "features = [\n",
        "    \"Hourly Global Radiation (KJ/m2)\",\n",
        "    \"Hourly Maximum Gust (kn)\",\n",
        "    \"Hourly Mean Wind Direction (o)\",\n",
        "    \"Hourly Mean Windspeed (kn)\",\n",
        "    \"Hourly Pressure at Mean Sea Level (hPa)\",\n",
        "    \"Hourly Rainfall Total (mm)\",\n",
        "    \"Hourly Relative Humidity (%)\",\n",
        "    \"Hourly Snow Depth (cm)\",\n",
        "    \"Hourly Temperature (C)\",\n",
        "    \"Hourly Total Cloud Cover (oktas)\\n\",\n",
        "    \"Hourly Visibility (dm)\"\n",
        "]\n",
        "\n",
        "X = merged_n[features]\n",
        "y = merged_n['Total Household Consumption (N)']"
      ],
      "metadata": {
        "id": "f56h4m2E5w51"
      },
      "execution_count": null,
      "outputs": []
    },
    {
      "cell_type": "code",
      "source": [
        "rf = RandomForestRegressor(n_estimators=100, random_state=42)\n",
        "rf.fit(X, y)"
      ],
      "metadata": {
        "colab": {
          "base_uri": "https://localhost:8080/",
          "height": 75
        },
        "id": "n_5bCsBx8STk",
        "outputId": "9bebf373-f92b-45bb-d3e0-e9e26fcf2b5a"
      },
      "execution_count": null,
      "outputs": [
        {
          "output_type": "execute_result",
          "data": {
            "text/plain": [
              "RandomForestRegressor(random_state=42)"
            ],
            "text/html": [
              "<style>#sk-container-id-2 {color: black;background-color: white;}#sk-container-id-2 pre{padding: 0;}#sk-container-id-2 div.sk-toggleable {background-color: white;}#sk-container-id-2 label.sk-toggleable__label {cursor: pointer;display: block;width: 100%;margin-bottom: 0;padding: 0.3em;box-sizing: border-box;text-align: center;}#sk-container-id-2 label.sk-toggleable__label-arrow:before {content: \"▸\";float: left;margin-right: 0.25em;color: #696969;}#sk-container-id-2 label.sk-toggleable__label-arrow:hover:before {color: black;}#sk-container-id-2 div.sk-estimator:hover label.sk-toggleable__label-arrow:before {color: black;}#sk-container-id-2 div.sk-toggleable__content {max-height: 0;max-width: 0;overflow: hidden;text-align: left;background-color: #f0f8ff;}#sk-container-id-2 div.sk-toggleable__content pre {margin: 0.2em;color: black;border-radius: 0.25em;background-color: #f0f8ff;}#sk-container-id-2 input.sk-toggleable__control:checked~div.sk-toggleable__content {max-height: 200px;max-width: 100%;overflow: auto;}#sk-container-id-2 input.sk-toggleable__control:checked~label.sk-toggleable__label-arrow:before {content: \"▾\";}#sk-container-id-2 div.sk-estimator input.sk-toggleable__control:checked~label.sk-toggleable__label {background-color: #d4ebff;}#sk-container-id-2 div.sk-label input.sk-toggleable__control:checked~label.sk-toggleable__label {background-color: #d4ebff;}#sk-container-id-2 input.sk-hidden--visually {border: 0;clip: rect(1px 1px 1px 1px);clip: rect(1px, 1px, 1px, 1px);height: 1px;margin: -1px;overflow: hidden;padding: 0;position: absolute;width: 1px;}#sk-container-id-2 div.sk-estimator {font-family: monospace;background-color: #f0f8ff;border: 1px dotted black;border-radius: 0.25em;box-sizing: border-box;margin-bottom: 0.5em;}#sk-container-id-2 div.sk-estimator:hover {background-color: #d4ebff;}#sk-container-id-2 div.sk-parallel-item::after {content: \"\";width: 100%;border-bottom: 1px solid gray;flex-grow: 1;}#sk-container-id-2 div.sk-label:hover label.sk-toggleable__label {background-color: #d4ebff;}#sk-container-id-2 div.sk-serial::before {content: \"\";position: absolute;border-left: 1px solid gray;box-sizing: border-box;top: 0;bottom: 0;left: 50%;z-index: 0;}#sk-container-id-2 div.sk-serial {display: flex;flex-direction: column;align-items: center;background-color: white;padding-right: 0.2em;padding-left: 0.2em;position: relative;}#sk-container-id-2 div.sk-item {position: relative;z-index: 1;}#sk-container-id-2 div.sk-parallel {display: flex;align-items: stretch;justify-content: center;background-color: white;position: relative;}#sk-container-id-2 div.sk-item::before, #sk-container-id-2 div.sk-parallel-item::before {content: \"\";position: absolute;border-left: 1px solid gray;box-sizing: border-box;top: 0;bottom: 0;left: 50%;z-index: -1;}#sk-container-id-2 div.sk-parallel-item {display: flex;flex-direction: column;z-index: 1;position: relative;background-color: white;}#sk-container-id-2 div.sk-parallel-item:first-child::after {align-self: flex-end;width: 50%;}#sk-container-id-2 div.sk-parallel-item:last-child::after {align-self: flex-start;width: 50%;}#sk-container-id-2 div.sk-parallel-item:only-child::after {width: 0;}#sk-container-id-2 div.sk-dashed-wrapped {border: 1px dashed gray;margin: 0 0.4em 0.5em 0.4em;box-sizing: border-box;padding-bottom: 0.4em;background-color: white;}#sk-container-id-2 div.sk-label label {font-family: monospace;font-weight: bold;display: inline-block;line-height: 1.2em;}#sk-container-id-2 div.sk-label-container {text-align: center;}#sk-container-id-2 div.sk-container {/* jupyter's `normalize.less` sets `[hidden] { display: none; }` but bootstrap.min.css set `[hidden] { display: none !important; }` so we also need the `!important` here to be able to override the default hidden behavior on the sphinx rendered scikit-learn.org. See: https://github.com/scikit-learn/scikit-learn/issues/21755 */display: inline-block !important;position: relative;}#sk-container-id-2 div.sk-text-repr-fallback {display: none;}</style><div id=\"sk-container-id-2\" class=\"sk-top-container\"><div class=\"sk-text-repr-fallback\"><pre>RandomForestRegressor(random_state=42)</pre><b>In a Jupyter environment, please rerun this cell to show the HTML representation or trust the notebook. <br />On GitHub, the HTML representation is unable to render, please try loading this page with nbviewer.org.</b></div><div class=\"sk-container\" hidden><div class=\"sk-item\"><div class=\"sk-estimator sk-toggleable\"><input class=\"sk-toggleable__control sk-hidden--visually\" id=\"sk-estimator-id-2\" type=\"checkbox\" checked><label for=\"sk-estimator-id-2\" class=\"sk-toggleable__label sk-toggleable__label-arrow\">RandomForestRegressor</label><div class=\"sk-toggleable__content\"><pre>RandomForestRegressor(random_state=42)</pre></div></div></div></div></div>"
            ]
          },
          "metadata": {},
          "execution_count": 32
        }
      ]
    },
    {
      "cell_type": "code",
      "source": [
        "feature_importance = rf.feature_importances_"
      ],
      "metadata": {
        "id": "VwC4NKXU8UQj"
      },
      "execution_count": null,
      "outputs": []
    },
    {
      "cell_type": "code",
      "source": [
        "importance = sorted(zip(features, feature_importance), key=lambda x:x[1], reverse=True)\n",
        "for feature, score in importance:\n",
        "    print(f\"{feature}: {score}\")"
      ],
      "metadata": {
        "colab": {
          "base_uri": "https://localhost:8080/"
        },
        "id": "ETzHhdDy8WbP",
        "outputId": "59f3031b-ddcf-407b-e2e9-c6b6b2fe1a15"
      },
      "execution_count": null,
      "outputs": [
        {
          "output_type": "stream",
          "name": "stdout",
          "text": [
            "Hourly Temperature (C): 0.19618008240893928\n",
            "Hourly Global Radiation (KJ/m2): 0.15705380679269043\n",
            "Hourly Relative Humidity (%): 0.1314947455260157\n",
            "Hourly Pressure at Mean Sea Level (hPa): 0.11648145215216807\n",
            "Hourly Mean Wind Direction (o): 0.08944601477725529\n",
            "Hourly Visibility (dm): 0.07786256683721154\n",
            "Hourly Total Cloud Cover (oktas)\n",
            ": 0.07211427058564182\n",
            "Hourly Maximum Gust (kn): 0.0670891834708998\n",
            "Hourly Mean Windspeed (kn): 0.06610754739545306\n",
            "Hourly Rainfall Total (mm): 0.017130597032780765\n",
            "Hourly Snow Depth (cm): 0.009039733020944418\n"
          ]
        }
      ]
    },
    {
      "cell_type": "code",
      "source": [
        "plt.figure(figsize=(15,10))\n",
        "sorted_idx = feature_importance.argsort()\n",
        "plt.barh([features[i] for i in sorted_idx], feature_importance[sorted_idx])\n",
        "plt.xlabel(\"Feature Importance\")\n",
        "plt.title('Feature Importance of Weather Variables in Predicting Consumption')\n",
        "plt.show()"
      ],
      "metadata": {
        "colab": {
          "base_uri": "https://localhost:8080/",
          "height": 755
        },
        "id": "fTV3Jc8V8ZJU",
        "outputId": "8edb172d-9227-49ff-8254-197fff244576"
      },
      "execution_count": null,
      "outputs": [
        {
          "output_type": "display_data",
          "data": {
            "text/plain": [
              "<Figure size 1500x1000 with 1 Axes>"
            ],
            "image/png": "[encoded data removed]"
          },
          "metadata": {}
        }
      ]
    }
  ]
}