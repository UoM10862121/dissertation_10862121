{
  "nbformat": 4,
  "nbformat_minor": 0,
  "metadata": {
    "colab": {
      "provenance": [],
      "machine_shape": "hm",
      "gpuType": "V100"
    },
    "kernelspec": {
      "name": "python3",
      "display_name": "Python 3"
    },
    "language_info": {
      "name": "python"
    },
    "accelerator": "GPU"
  },
  "cells": [
    {
      "cell_type": "code",
      "source": [
        "!pip install scikeras"
      ],
      "metadata": {
        "colab": {
          "base_uri": "https://localhost:8080/"
        },
        "id": "38aIqFRWiw_n",
        "outputId": "f9dd6c6d-33bb-44ff-d47b-2ce3a4d05ba1"
      },
      "execution_count": null,
      "outputs": [
        {
          "output_type": "stream",
          "name": "stdout",
          "text": [
            "Collecting scikeras\n",
            "  Downloading scikeras-0.11.0-py3-none-any.whl (27 kB)\n",
            "Requirement already satisfied: packaging>=0.21 in /usr/local/lib/python3.10/dist-packages (from scikeras) (23.1)\n",
            "Requirement already satisfied: scikit-learn>=1.0.0 in /usr/local/lib/python3.10/dist-packages (from scikeras) (1.2.2)\n",
            "Requirement already satisfied: numpy>=1.17.3 in /usr/local/lib/python3.10/dist-packages (from scikit-learn>=1.0.0->scikeras) (1.23.5)\n",
            "Requirement already satisfied: scipy>=1.3.2 in /usr/local/lib/python3.10/dist-packages (from scikit-learn>=1.0.0->scikeras) (1.10.1)\n",
            "Requirement already satisfied: joblib>=1.1.1 in /usr/local/lib/python3.10/dist-packages (from scikit-learn>=1.0.0->scikeras) (1.3.2)\n",
            "Requirement already satisfied: threadpoolctl>=2.0.0 in /usr/local/lib/python3.10/dist-packages (from scikit-learn>=1.0.0->scikeras) (3.2.0)\n",
            "Installing collected packages: scikeras\n",
            "Successfully installed scikeras-0.11.0\n"
          ]
        }
      ]
    },
    {
      "cell_type": "code",
      "execution_count": null,
      "metadata": {
        "id": "jUewFy8PUPpQ"
      },
      "outputs": [],
      "source": [
        "import numpy as np\n",
        "import pandas as pd\n",
        "import matplotlib.pyplot as plt\n",
        "from sklearn.preprocessing import StandardScaler\n",
        "from sklearn.preprocessing import MinMaxScaler"
      ]
    },
    {
      "cell_type": "code",
      "source": [
        "from tensorflow.keras.models import Sequential\n",
        "from tensorflow.keras.layers import LSTM, Dense\n",
        "from keras.layers import Dropout\n",
        "from keras.callbacks import EarlyStopping, ModelCheckpoint\n",
        "from scikeras.wrappers import KerasRegressor\n",
        "from sklearn.model_selection import GridSearchCV"
      ],
      "metadata": {
        "id": "eO-n-mz7UVFN"
      },
      "execution_count": null,
      "outputs": []
    },
    {
      "cell_type": "code",
      "source": [
        "import tensorflow as tf\n",
        "import random\n",
        "\n",
        "random.seed(42)\n",
        "np.random.seed(42)\n",
        "tf.random.set_seed(42)"
      ],
      "metadata": {
        "id": "7BPiIG265ps0"
      },
      "execution_count": null,
      "outputs": []
    },
    {
      "cell_type": "code",
      "source": [
        "from google.colab import drive\n",
        "drive.mount('/content/drive')"
      ],
      "metadata": {
        "colab": {
          "base_uri": "https://localhost:8080/"
        },
        "id": "N4CN_to8xSDs",
        "outputId": "173ea903-dcbc-4053-b036-b7033b21b2b9"
      },
      "execution_count": null,
      "outputs": [
        {
          "output_type": "stream",
          "name": "stdout",
          "text": [
            "Mounted at /content/drive\n"
          ]
        }
      ]
    },
    {
      "cell_type": "code",
      "source": [
        "merged_n = pd.read_csv(r'/content/drive/MyDrive/Dissertation_10862121/merged_n.csv')"
      ],
      "metadata": {
        "id": "kFHUEXUSUY1Y"
      },
      "execution_count": null,
      "outputs": []
    },
    {
      "cell_type": "code",
      "source": [
        "save_dir = \"r'/content/drive/MyDrive/Dissertation_10862121/\""
      ],
      "metadata": {
        "id": "coqhNtGGghu7"
      },
      "execution_count": null,
      "outputs": []
    },
    {
      "cell_type": "code",
      "source": [
        "import os\n",
        "if not os.path.exists(save_dir):\n",
        "    os.makedirs(save_dir)"
      ],
      "metadata": {
        "id": "c4luLjEqgr3Z"
      },
      "execution_count": null,
      "outputs": []
    },
    {
      "cell_type": "code",
      "source": [
        "merged_n['GMT'] = pd.to_datetime(merged_n['GMT'])\n",
        "merged_n['Date'] = pd.to_datetime(merged_n['Date'])\n",
        "merged_n.set_index('GMT', inplace=True)"
      ],
      "metadata": {
        "id": "umtm8BtEUhAq"
      },
      "execution_count": null,
      "outputs": []
    },
    {
      "cell_type": "markdown",
      "source": [
        "Consumption"
      ],
      "metadata": {
        "id": "JVA3fYV3UywV"
      }
    },
    {
      "cell_type": "code",
      "source": [
        "#Lag for the hour before\n",
        "merged_n['lag_1_hour_energy'] = merged_n['Total Household Consumption (N)'].shift(1)\n",
        "\n",
        "#Lags for the same hour for the past 7 days\n",
        "for i in range(1, 8):\n",
        "    merged_n[f'lag_{i}_day_energy'] = merged_n['Total Household Consumption (N)'].shift(24 * i)"
      ],
      "metadata": {
        "id": "fON1KzDwUz7h"
      },
      "execution_count": null,
      "outputs": []
    },
    {
      "cell_type": "markdown",
      "source": [
        "Temperature"
      ],
      "metadata": {
        "id": "P7FkmuEkU2HB"
      }
    },
    {
      "cell_type": "code",
      "source": [
        "#Lag for the hour before\n",
        "merged_n['lag_1_hour_temp'] = merged_n['Hourly Temperature (C)'].shift(1)\n",
        "\n",
        "#Lags for the same hour for the past 7 days\n",
        "for i in range(1, 8):\n",
        "    merged_n[f'lag_{i}_day_temp'] = merged_n['Hourly Temperature (C)'].shift(24 * i)"
      ],
      "metadata": {
        "id": "8VBtt0CUU4EX"
      },
      "execution_count": null,
      "outputs": []
    },
    {
      "cell_type": "markdown",
      "source": [
        "Radiation"
      ],
      "metadata": {
        "id": "AdetokeYU3T0"
      }
    },
    {
      "cell_type": "code",
      "source": [
        "#Lag for the hour before\n",
        "merged_n['lag_1_hour_rad'] = merged_n['Hourly Global Radiation (KJ/m2)'].shift(1)\n",
        "\n",
        "#Lags for the same hour for the past 7 days\n",
        "for i in range(1, 8):\n",
        "    merged_n[f'lag_{i}_day_rad'] = merged_n['Hourly Global Radiation (KJ/m2)'].shift(24 * i)"
      ],
      "metadata": {
        "id": "YJ7ALrF4U55y"
      },
      "execution_count": null,
      "outputs": []
    },
    {
      "cell_type": "markdown",
      "source": [
        "Rolling Statistics - Consumption"
      ],
      "metadata": {
        "id": "WwEgsTnfU7nb"
      }
    },
    {
      "cell_type": "code",
      "source": [
        "window_size = 72\n",
        "merged_n['rolling_mean_consumption'] = merged_n['Total Household Consumption (N)'].rolling(window=window_size).mean()"
      ],
      "metadata": {
        "id": "qttpVHr5U-ar"
      },
      "execution_count": null,
      "outputs": []
    },
    {
      "cell_type": "markdown",
      "source": [
        "Cyclical Features"
      ],
      "metadata": {
        "id": "jYca51-4VAzV"
      }
    },
    {
      "cell_type": "code",
      "source": [
        "merged_n['hour_sin'] = np.sin(2 * np.pi * merged_n['Hour'] / 24)\n",
        "merged_n['hour_cos'] = np.cos(2 * np.pi * merged_n['Hour'] / 24)\n",
        "merged_n['month_sin'] = np.sin(2 * np.pi * merged_n['Month'] / 12)\n",
        "merged_n['month_cos'] = np.cos(2 * np.pi * merged_n['Month'] / 12)"
      ],
      "metadata": {
        "id": "XKb0DSewVCYW"
      },
      "execution_count": null,
      "outputs": []
    },
    {
      "cell_type": "markdown",
      "source": [
        "Weather Combination Variables"
      ],
      "metadata": {
        "id": "77Y_dyesVD5u"
      }
    },
    {
      "cell_type": "code",
      "source": [
        "merged_n['temp_humidity_interaction'] = merged_n['Hourly Temperature (C)'] * merged_n['Hourly Relative Humidity (%)']"
      ],
      "metadata": {
        "id": "2y6gQ6zGVGn0"
      },
      "execution_count": null,
      "outputs": []
    },
    {
      "cell_type": "code",
      "source": [
        "merged_n['temp_rad_interaction'] = merged_n['Hourly Temperature (C)'] * merged_n['Hourly Global Radiation (KJ/m2)']"
      ],
      "metadata": {
        "id": "EttB6W7ZLwb2"
      },
      "execution_count": null,
      "outputs": []
    },
    {
      "cell_type": "markdown",
      "source": [
        "Weighted Observations (More weight to more recent)"
      ],
      "metadata": {
        "id": "HWT9LvyPVHc1"
      }
    },
    {
      "cell_type": "code",
      "source": [
        "alpha = 0.9\n",
        "merged_n['ewm_consumption'] = merged_n['Total Household Consumption (N)'].ewm(alpha=alpha).mean()"
      ],
      "metadata": {
        "id": "L2hGLFj9VKut"
      },
      "execution_count": null,
      "outputs": []
    },
    {
      "cell_type": "markdown",
      "source": [
        "Difference between consecutive hours"
      ],
      "metadata": {
        "id": "HKzIPuXRVMt5"
      }
    },
    {
      "cell_type": "code",
      "source": [
        "merged_n['consumption_diff'] = merged_n['Total Household Consumption (N)'].diff()"
      ],
      "metadata": {
        "id": "DltBvaiRVQRh"
      },
      "execution_count": null,
      "outputs": []
    },
    {
      "cell_type": "markdown",
      "source": [
        "Drop Missing Value Rows after Feature Engineering (1 week worth of data, 168 rows)"
      ],
      "metadata": {
        "id": "m0T29hZMVQmo"
      }
    },
    {
      "cell_type": "code",
      "source": [
        "merged_n.dropna(inplace=True)"
      ],
      "metadata": {
        "id": "mnw7IFqRVWzg"
      },
      "execution_count": null,
      "outputs": []
    },
    {
      "cell_type": "code",
      "source": [
        "merged_n['IsHoliday'] = merged_n['IsHoliday'].astype(int)"
      ],
      "metadata": {
        "id": "uaWnQ6suVWxq"
      },
      "execution_count": null,
      "outputs": []
    },
    {
      "cell_type": "code",
      "source": [
        "non_num_columns = merged_n.select_dtypes(exclude=['int64', 'float64']).columns\n",
        "print(non_num_columns)"
      ],
      "metadata": {
        "colab": {
          "base_uri": "https://localhost:8080/"
        },
        "id": "fphvTodeVWtw",
        "outputId": "5d56e5ee-2fd3-4936-81a4-0924243b4382"
      },
      "execution_count": null,
      "outputs": [
        {
          "output_type": "stream",
          "name": "stdout",
          "text": [
            "Index(['Date', 'Time'], dtype='object')\n"
          ]
        }
      ]
    },
    {
      "cell_type": "code",
      "source": [
        "#Dropping columns that aren't numerical (needed for model input)\n",
        "merged_n= merged_n.drop(columns=['Date', 'Time'])"
      ],
      "metadata": {
        "id": "hgze-Qzljlej"
      },
      "execution_count": null,
      "outputs": []
    },
    {
      "cell_type": "code",
      "source": [
        "non_num_columns = merged_n.select_dtypes(exclude=['int64', 'float64']).columns\n",
        "print(non_num_columns)"
      ],
      "metadata": {
        "colab": {
          "base_uri": "https://localhost:8080/"
        },
        "id": "gE_nyJZGjwSx",
        "outputId": "c819c0b1-3d64-437d-e9ec-e5ce13035ecb"
      },
      "execution_count": null,
      "outputs": [
        {
          "output_type": "stream",
          "name": "stdout",
          "text": [
            "Index([], dtype='object')\n"
          ]
        }
      ]
    },
    {
      "cell_type": "markdown",
      "source": [
        "Feature Selection"
      ],
      "metadata": {
        "id": "0Dezk9LY7DQ8"
      }
    },
    {
      "cell_type": "code",
      "source": [
        "merged_n = merged_n.drop(columns=[\"Hourly Mean Windspeed (kn)\"])"
      ],
      "metadata": {
        "id": "QncpPou77E4Y"
      },
      "execution_count": null,
      "outputs": []
    },
    {
      "cell_type": "code",
      "source": [
        "from sklearn.ensemble import RandomForestRegressor\n",
        "from sklearn.model_selection import train_test_split\n",
        "\n",
        "features = [\n",
        "    \"rolling_mean_consumption\",\n",
        "    \"hour_sin\",\n",
        "    \"hour_cos\",\n",
        "    \"month_sin\",\n",
        "    \"month_cos\",\n",
        "    \"temp_humidity_interaction\",\n",
        "    \"temp_rad_interaction\",\n",
        "    \"consumption_diff\",\n",
        "]\n",
        "\n",
        "X = merged_n[features]\n",
        "y = merged_n['Total Household Consumption (N)']\n",
        "\n",
        "#Splitting data\n",
        "X_train, X_test, y_train, y_test = train_test_split(X, y, test_size=0.2, random_state=42)\n",
        "\n",
        "#Training\n",
        "rf = RandomForestRegressor(n_estimators=100, random_state=42)\n",
        "rf.fit(X_train, y_train)\n",
        "\n",
        "feature_importance = rf.feature_importances_\n",
        "\n",
        "importance = sorted(zip(features, feature_importance), key=lambda x:x[1], reverse=True)\n",
        "for feature, score in importance:\n",
        "    print(f\"{feature}: {score}\")\n",
        "\n",
        "plt.figure(figsize=(12, 5))\n",
        "sorted_idx = feature_importance.argsort()\n",
        "plt.barh([features[i] for i in sorted_idx], feature_importance[sorted_idx])\n",
        "plt.xlabel(\"Feature Importance\")\n",
        "plt.title(\"Feature Importance using Random Forest for Feature Engineered Variables\")\n",
        "plt.tight_layout()\n",
        "plt.show()"
      ],
      "metadata": {
        "colab": {
          "base_uri": "https://localhost:8080/",
          "height": 650
        },
        "id": "_fbjP2UT8hx0",
        "outputId": "d8b17d22-9b69-4e8c-b275-eee0c2b0ac7a"
      },
      "execution_count": null,
      "outputs": [
        {
          "output_type": "stream",
          "name": "stdout",
          "text": [
            "hour_sin: 0.4542096379693078\n",
            "rolling_mean_consumption: 0.23250154163505996\n",
            "hour_cos: 0.16922600082804362\n",
            "consumption_diff: 0.08207524542672523\n",
            "temp_rad_interaction: 0.04442884772000439\n",
            "temp_humidity_interaction: 0.01185239103825915\n",
            "month_cos: 0.0031718780793439693\n",
            "month_sin: 0.0025344573032558384\n"
          ]
        },
        {
          "output_type": "display_data",
          "data": {
            "text/plain": [
              "<Figure size 1200x500 with 1 Axes>"
            ],
            "image/png": "[encoded data removed]"
          },
          "metadata": {}
        }
      ]
    },
    {
      "cell_type": "code",
      "source": [
        "features = [\n",
        "    \"lag_1_hour_energy\",\n",
        "    \"lag_1_day_energy\",\n",
        "    \"lag_2_day_energy\",\n",
        "    \"lag_3_day_energy\",\n",
        "    \"lag_4_day_energy\",\n",
        "    \"lag_5_day_energy\",\n",
        "    \"lag_6_day_energy\",\n",
        "    \"lag_7_day_energy\",\n",
        "]\n",
        "\n",
        "X = merged_n[features]\n",
        "y = merged_n['Total Household Consumption (N)']\n",
        "\n",
        "#Splitting data\n",
        "X_train, X_test, y_train, y_test = train_test_split(X, y, test_size=0.2, random_state=42)\n",
        "\n",
        "#Training\n",
        "rf = RandomForestRegressor(n_estimators=100, random_state=42)\n",
        "rf.fit(X_train, y_train)\n",
        "\n",
        "feature_importance = rf.feature_importances_\n",
        "\n",
        "importance = sorted(zip(features, feature_importance), key=lambda x:x[1], reverse=True)\n",
        "for feature, score in importance:\n",
        "    print(f\"{feature}: {score}\")\n",
        "\n",
        "plt.figure(figsize=(12, 5))\n",
        "sorted_idx = feature_importance.argsort()\n",
        "plt.barh([features[i] for i in sorted_idx], feature_importance[sorted_idx])\n",
        "plt.xlabel(\"Feature Importance\")\n",
        "plt.title(\"Feature Importance using Random Forest for Lagged Variables\")\n",
        "plt.tight_layout()\n",
        "plt.show()"
      ],
      "metadata": {
        "colab": {
          "base_uri": "https://localhost:8080/",
          "height": 650
        },
        "id": "Qh9gBT39ALFJ",
        "outputId": "7c93ac4f-db32-4ef9-86e6-6db797f15fc7"
      },
      "execution_count": null,
      "outputs": [
        {
          "output_type": "stream",
          "name": "stdout",
          "text": [
            "lag_7_day_energy: 0.6329299106069396\n",
            "lag_1_day_energy: 0.32589611386014505\n",
            "lag_1_hour_energy: 0.024865499451571318\n",
            "lag_6_day_energy: 0.004845249467547612\n",
            "lag_3_day_energy: 0.0030405576461277296\n",
            "lag_5_day_energy: 0.002965464297396496\n",
            "lag_4_day_energy: 0.002764795885258634\n",
            "lag_2_day_energy: 0.002692408785013561\n"
          ]
        },
        {
          "output_type": "display_data",
          "data": {
            "text/plain": [
              "<Figure size 1200x500 with 1 Axes>"
            ],
            "image/png": "[encoded data removed]"
          },
          "metadata": {}
        }
      ]
    }
  ]
}